{
 "cells": [
  {
   "cell_type": "code",
   "execution_count": 68,
   "id": "384ae5b9-fffb-476a-b15f-83fc629d9a22",
   "metadata": {},
   "outputs": [],
   "source": [
    "import os\n",
    "import requests\n",
    "from urllib.parse import urljoin\n",
    "from bs4 import BeautifulSoup\n",
    "import re\n",
    "from PyPDF2 import PdfFileMerger, PdfFileReader\n",
    "\n",
    "url = \"\""
   ]
  },
  {
   "cell_type": "code",
   "execution_count": 17,
   "id": "91ca0d83-663e-474a-b90e-ab099262bbd7",
   "metadata": {},
   "outputs": [],
   "source": [
    "folder_location = r''"
   ]
  },
  {
   "cell_type": "code",
   "execution_count": 18,
   "id": "e3b5871c-5b9d-4c6a-ab57-ae183620953c",
   "metadata": {},
   "outputs": [],
   "source": [
    "cookies = {}"
   ]
  },
  {
   "cell_type": "code",
   "execution_count": 24,
   "id": "f9f170df-2981-478a-b962-13dfb9d693c2",
   "metadata": {},
   "outputs": [],
   "source": [
    "response = requests.get(url, cookies=cookies)"
   ]
  },
  {
   "cell_type": "code",
   "execution_count": 36,
   "id": "1428a09b-04ad-4ef9-8b97-4ef9a6144290",
   "metadata": {},
   "outputs": [],
   "source": [
    "download_template = lambda x: f'https://gatech.instructure.com/courses/{fill me in!}/files/{x}/download?download_frd=1'\n",
    "info_template = lambda x: f'https://gatech.instructure.com/api/v1/courses/{fill me in!}/files/{x}/'"
   ]
  },
  {
   "cell_type": "code",
   "execution_count": 37,
   "id": "4acaaa31-e5d7-40e3-9580-ff749999b29e",
   "metadata": {},
   "outputs": [],
   "source": [
    "r = requests.get(info_template(_id), cookies=cookies)"
   ]
  },
  {
   "cell_type": "code",
   "execution_count": 29,
   "id": "1238fcb4-86b5-49a4-874e-8ff554a2fd66",
   "metadata": {},
   "outputs": [
    {
     "name": "stdout",
     "output_type": "stream",
     "text": [
      "{'32834457', '32834721', '32835019', '32834809', '32835139', '32835015', '32834613', '32835013', '32835023', '32835025', '32835027', '32835029', '32834507', '32835031', '32834427'}\n"
     ]
    }
   ],
   "source": [
    "file_ids = set()\n",
    "\n",
    "for link in re.findall(re.compile(r'(?<=courses\\/{fill me in!}\\/files\\/).*?(?=\\?)'), response.text):\n",
    "    if \n",
    "    file_ids.add(link[:8])\n",
    "    \n",
    "print(file_ids)"
   ]
  },
  {
   "cell_type": "code",
   "execution_count": 60,
   "id": "22c69bf6-97fd-4582-8a17-87df545b5579",
   "metadata": {},
   "outputs": [],
   "source": [
    "def get_number(s):\n",
    "    lesson_number = re.compile(r'(?<=-L).*?(?=\\+)') # This grabs the lesson number, might need to fix for your course\n",
    "    return int(re.search(lesson_number, s).group())"
   ]
  },
  {
   "cell_type": "code",
   "execution_count": 49,
   "id": "aac33548-30b3-4764-9f75-a45388b52aad",
   "metadata": {},
   "outputs": [
    {
     "name": "stdout",
     "output_type": "stream",
     "text": [
      "https://gatech.instructure.com/courses/268744/files/32834457/download?download_frd=1\n",
      "https://gatech.instructure.com/courses/268744/files/32835019/download?download_frd=1\n",
      "https://gatech.instructure.com/courses/268744/files/32834809/download?download_frd=1\n",
      "https://gatech.instructure.com/courses/268744/files/32835139/download?download_frd=1\n",
      "https://gatech.instructure.com/courses/268744/files/32835015/download?download_frd=1\n",
      "https://gatech.instructure.com/courses/268744/files/32834613/download?download_frd=1\n",
      "https://gatech.instructure.com/courses/268744/files/32835013/download?download_frd=1\n",
      "https://gatech.instructure.com/courses/268744/files/32835023/download?download_frd=1\n",
      "https://gatech.instructure.com/courses/268744/files/32835025/download?download_frd=1\n",
      "https://gatech.instructure.com/courses/268744/files/32835027/download?download_frd=1\n",
      "https://gatech.instructure.com/courses/268744/files/32835031/download?download_frd=1\n",
      "https://gatech.instructure.com/courses/268744/files/32834427/download?download_frd=1\n"
     ]
    }
   ],
   "source": [
    "fpaths = set()\n",
    "lessons = set()\n",
    "\n",
    "for _id in file_ids:\n",
    "    info = requests.get(info_template(_id), cookies=cookies).json()\n",
    "    number = get_number(info[\"filename\"])\n",
    "    if number in lessons:\n",
    "        continue\n",
    "    lessons.add(number)\n",
    "    pdf = requests.get(download_template(_id), cookies=cookies)\n",
    "    print(download_template(_id))\n",
    "    fpath = f'{info[\"filename\"]}'\n",
    "    with open(fpath, 'wb') as f:\n",
    "        f.write(pdf.content)\n",
    "    fpaths.add(fpath)"
   ]
  },
  {
   "cell_type": "code",
   "execution_count": 61,
   "id": "8d50a044-a52a-4fbb-9c9f-69cfd4b59f46",
   "metadata": {},
   "outputs": [
    {
     "data": {
      "text/plain": [
       "['C:\\\\Users\\\\Sfrad\\\\PycharmProjects\\\\Time series\\\\PDFScrape\\\\PDFs\\\\ARMA+Concept-L1+Revised+-+RR090120.pdf',\n",
       " 'C:\\\\Users\\\\Sfrad\\\\PycharmProjects\\\\Time series\\\\PDFScrape\\\\PDFs\\\\ARMA+Concept-L2+revised+-+RR090220.pdf',\n",
       " 'C:\\\\Users\\\\Sfrad\\\\PycharmProjects\\\\Time series\\\\PDFScrape\\\\PDFs\\\\ARMA+Concept-L3+revised+-+RR090320.pdf',\n",
       " 'C:\\\\Users\\\\Sfrad\\\\PycharmProjects\\\\Time series\\\\PDFScrape\\\\PDFs\\\\ARMA+Concept-L4+revised.pdf',\n",
       " 'C:\\\\Users\\\\Sfrad\\\\PycharmProjects\\\\Time series\\\\PDFScrape\\\\PDFs\\\\ARMA+Concept-L5+revised+-+072721.pdf',\n",
       " 'C:\\\\Users\\\\Sfrad\\\\PycharmProjects\\\\Time series\\\\PDFScrape\\\\PDFs\\\\ARMA+Concept-L6+revised+-+RR090420.pdf',\n",
       " 'C:\\\\Users\\\\Sfrad\\\\PycharmProjects\\\\Time series\\\\PDFScrape\\\\PDFs\\\\ARMA+Concept-L7+revised+-072721.pdf',\n",
       " 'C:\\\\Users\\\\Sfrad\\\\PycharmProjects\\\\Time series\\\\PDFScrape\\\\PDFs\\\\ARMA+Concept-L8+revised+-+RR090920.pdf',\n",
       " 'C:\\\\Users\\\\Sfrad\\\\PycharmProjects\\\\Time series\\\\PDFScrape\\\\PDFs\\\\ARMA+Concept-L9+revised+-+RR090920.pdf',\n",
       " 'C:\\\\Users\\\\Sfrad\\\\PycharmProjects\\\\Time series\\\\PDFScrape\\\\PDFs\\\\ARMA+Concept-L10+revised+-+RR091020.pdf',\n",
       " 'C:\\\\Users\\\\Sfrad\\\\PycharmProjects\\\\Time series\\\\PDFScrape\\\\PDFs\\\\ARMA+Concept-L11+revised+-+RR091020.pdf',\n",
       " 'C:\\\\Users\\\\Sfrad\\\\PycharmProjects\\\\Time series\\\\PDFScrape\\\\PDFs\\\\ARMA+Concept-L12+revised+-RR091120.pdf']"
      ]
     },
     "execution_count": 61,
     "metadata": {},
     "output_type": "execute_result"
    }
   ],
   "source": [
    "sorted(list(fpaths), key=get_number)"
   ]
  },
  {
   "cell_type": "code",
   "execution_count": 74,
   "id": "4e75540e-8e85-4393-852a-02b2146b78e4",
   "metadata": {},
   "outputs": [],
   "source": [
    "with PdfFileMerger() as merger:\n",
    "    for doc in sorted(list(fpaths), key=get_number):\n",
    "        merger.append(PdfFileReader(open(doc, 'rb')))\n",
    "    with open('file.pdf', 'wb') as f:\n",
    "        merger.write(f)"
   ]
  },
  {
   "cell_type": "code",
   "execution_count": null,
   "id": "737606bc-60fe-4a68-a10e-6f20d76e8eb9",
   "metadata": {},
   "outputs": [],
   "source": []
  }
 ],
 "metadata": {
  "kernelspec": {
   "display_name": "Python 3 (ipykernel)",
   "language": "python",
   "name": "python3"
  },
  "language_info": {
   "codemirror_mode": {
    "name": "ipython",
    "version": 3
   },
   "file_extension": ".py",
   "mimetype": "text/x-python",
   "name": "python",
   "nbconvert_exporter": "python",
   "pygments_lexer": "ipython3",
   "version": "3.8.5"
  }
 },
 "nbformat": 4,
 "nbformat_minor": 5
}
